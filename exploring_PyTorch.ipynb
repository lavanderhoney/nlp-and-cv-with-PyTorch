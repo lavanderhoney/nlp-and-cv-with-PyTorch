{
  "nbformat": 4,
  "nbformat_minor": 0,
  "metadata": {
    "colab": {
      "provenance": []
    },
    "kernelspec": {
      "name": "python3",
      "display_name": "Python 3"
    },
    "language_info": {
      "name": "python"
    }
  },
  "cells": [
    {
      "cell_type": "markdown",
      "source": [
        "torch:\n",
        "\n",
        "\n",
        "*   it's a package that has the data structures for multi-dim tensors and defines mathematical operations on them\n",
        "*   also defines other utilities\n",
        "\n"
      ],
      "metadata": {
        "id": "dLfWgEPcWoX7"
      }
    },
    {
      "cell_type": "code",
      "source": [
        "#Learning resource used: https://www.learnpytorch.io/ (Module 00 and 01)\n",
        "import torch\n",
        "\n",
        "#creates a tensor with random values\n",
        "random_image_tensor = torch.rand([224,224,3]) * 100\n",
        "\n",
        "print(random_image_tensor)\n",
        "print(f\"Shape: {random_image_tensor.shape}\")\n",
        "print(f\"Dimensions: {random_image_tensor.ndim}\")\n",
        "print(f\"Data type: {random_image_tensor.dtype}\")\n",
        "print(f\"Tensor on device: {random_image_tensor.device}\")"
      ],
      "metadata": {
        "colab": {
          "base_uri": "https://localhost:8080/"
        },
        "collapsed": true,
        "id": "FWhxt_g69VSP",
        "outputId": "56c08648-1c61-40e3-dd4b-93aec87be9e1"
      },
      "execution_count": null,
      "outputs": [
        {
          "output_type": "stream",
          "name": "stdout",
          "text": [
            "tensor([[[5.1813e+01, 4.0214e+01, 6.2047e+01],\n",
            "         [3.5476e+01, 5.0561e+01, 9.7342e+01],\n",
            "         [5.9717e+00, 7.1154e+01, 9.5265e+01],\n",
            "         ...,\n",
            "         [5.2110e+01, 1.6286e+01, 9.6945e+01],\n",
            "         [7.8490e+01, 7.5615e+01, 9.6641e+01],\n",
            "         [5.2080e+01, 6.8970e+01, 6.2350e+01]],\n",
            "\n",
            "        [[9.5761e+01, 9.9942e+01, 8.5771e-02],\n",
            "         [2.3443e+01, 8.2598e+01, 5.8053e+01],\n",
            "         [3.5682e+01, 3.6429e+01, 3.7289e+01],\n",
            "         ...,\n",
            "         [7.7997e+01, 4.2276e+01, 9.9568e+01],\n",
            "         [4.4466e+01, 3.3196e+01, 2.0405e+01],\n",
            "         [8.0209e+01, 2.1816e+01, 3.6319e+01]],\n",
            "\n",
            "        [[8.8607e+01, 5.5582e+01, 1.5091e+01],\n",
            "         [2.1839e+01, 9.4757e+01, 7.8997e+01],\n",
            "         [7.6348e+00, 7.4913e+01, 2.8631e+01],\n",
            "         ...,\n",
            "         [3.7637e+01, 1.1958e+01, 8.5431e+01],\n",
            "         [1.2345e+01, 6.4824e+01, 5.7851e+00],\n",
            "         [7.3873e+01, 2.9656e+01, 8.0394e+01]],\n",
            "\n",
            "        ...,\n",
            "\n",
            "        [[9.7555e+01, 5.5524e+01, 9.5575e+01],\n",
            "         [5.8725e+01, 8.6880e+01, 2.1262e+01],\n",
            "         [6.7236e+01, 1.8691e+01, 7.9619e+01],\n",
            "         ...,\n",
            "         [2.8604e+01, 7.9838e+01, 8.6931e+01],\n",
            "         [5.8047e+01, 1.8190e+01, 1.5313e+01],\n",
            "         [9.6110e+01, 5.8911e+01, 2.1236e+01]],\n",
            "\n",
            "        [[9.2396e+01, 8.2767e+01, 5.3316e+01],\n",
            "         [5.3289e+00, 8.6760e+01, 5.9524e+01],\n",
            "         [3.8551e+01, 5.6451e+01, 9.3755e+01],\n",
            "         ...,\n",
            "         [9.2202e+01, 4.8680e+01, 5.4226e+01],\n",
            "         [4.2714e+00, 8.3165e+00, 1.6632e+01],\n",
            "         [7.6486e+01, 3.2196e+01, 7.9915e+00]],\n",
            "\n",
            "        [[8.0310e+01, 7.9191e+01, 4.1446e+01],\n",
            "         [7.1453e+01, 4.6852e+01, 4.4054e+01],\n",
            "         [5.6078e+01, 9.9426e+01, 1.9660e+01],\n",
            "         ...,\n",
            "         [4.9603e+01, 7.5756e+01, 1.1054e+01],\n",
            "         [8.2100e+01, 5.8753e+01, 1.0810e+01],\n",
            "         [4.3588e+01, 4.4670e+01, 3.3043e+01]]])\n",
            "Shape: torch.Size([224, 224, 3])\n",
            "Dimensions: 3\n",
            "Data type: torch.float32\n",
            "Tensor on device: cpu\n"
          ]
        }
      ]
    },
    {
      "cell_type": "code",
      "source": [
        "#converts the list to tensor\n",
        "tensor = torch.tensor([10, 12, 22, 45])\n",
        "\n",
        "print(\"adding scalar: \", tensor+10)\n",
        "\n",
        "#unless re-assigned, the tensor won't change\n",
        "print(tensor)\n",
        "\n",
        "#scalar multiplication\n",
        "print(\"scalar multiplication: \",100*tensor)\n",
        "\n",
        "print(\"element-wise multiplication: \", tensor*tensor)\n",
        "\n",
        "#changing data type of tensor\n",
        "tensor_float32 = tensor.type(torch.float32)\n",
        "\n",
        "print(\"tensor_float32: \", tensor_float32)"
      ],
      "metadata": {
        "colab": {
          "base_uri": "https://localhost:8080/"
        },
        "id": "ranEWq5-ck6d",
        "outputId": "f71a98fe-78f7-4ed7-a215-52edffafdfae"
      },
      "execution_count": null,
      "outputs": [
        {
          "output_type": "stream",
          "name": "stdout",
          "text": [
            "adding scalar:  tensor([20, 22, 32, 55])\n",
            "tensor([10, 12, 22, 45])\n",
            "scalar multiplication:  tensor([1000, 1200, 2200, 4500])\n",
            "element-wise multiplication:  tensor([ 100,  144,  484, 2025])\n",
            "tensor_float32:  tensor([10., 12., 22., 45.])\n"
          ]
        }
      ]
    },
    {
      "cell_type": "markdown",
      "source": [
        "**Matrix Multiplication** \\\n",
        "We can use python's `@` for matrix multiplication, but pytorch recommends to use `torch.matmul`.\\\n",
        "That's because matmul uses an optimized C++ backend, which uses techniques like ,\n",
        "\n",
        "*   SIMD instructions: operates a single instruction on multiple data points.\n",
        "*   parallelizing instructions using lib likes OpenMP or TBB(Thread Building Blocks), for multi-core CPU\n",
        "*   cache-friendly blocking: divides the matrices into smaller blocks that can fit into the CPU cache\n",
        "*   loop unrolling: innermost loop is partially unrolled to process multiple elements at once using SIMD, reducing loop overhead\n",
        "*  optimized Memory Access Patterns: loops are structured to access memory in a predictable, linear pattern, which is favorable for CPU prefetching mechanisms.\n",
        "*  linking with optimized lib likes OpenBLAS or Intel MKL(Math Kernel Library)"
      ],
      "metadata": {
        "id": "bgYntv9AeUn3"
      }
    },
    {
      "cell_type": "code",
      "source": [
        "#Matrix multiplication\n",
        "t1 = torch.tensor([1,2,3])\n",
        "t2 = torch.tensor([4,5,6])\n",
        "\n",
        "#re-shaping the tensor t2 to 3x1\n",
        "print(\"Matrix multiplication: \",torch.matmul(t1,t2.reshape((3,1))))\n",
        "\n",
        "tensor_A = torch.tensor([[1, 2],\n",
        "                         [3, 4],\n",
        "                         [5, 6]], dtype=torch.float32)\n",
        "\n",
        "tensor_B = torch.tensor([[7, 10],\n",
        "                         [8, 11],\n",
        "                         [9, 12]], dtype=torch.float32)\n",
        "\n",
        "print(\"Matrix multiplication with transpose: \",torch.matmul(tensor_A,tensor_B.T))"
      ],
      "metadata": {
        "colab": {
          "base_uri": "https://localhost:8080/"
        },
        "id": "EQC20Vj-d9SN",
        "outputId": "99de880c-fbfe-43f5-f2e2-daf7bce37ef7"
      },
      "execution_count": null,
      "outputs": [
        {
          "output_type": "stream",
          "name": "stdout",
          "text": [
            "Matrix multiplication:  tensor([32])\n",
            "Matrix multiplication with transpose:  tensor([[ 27.,  30.,  33.],\n",
            "        [ 61.,  68.,  75.],\n",
            "        [ 95., 106., 117.]])\n"
          ]
        }
      ]
    },
    {
      "cell_type": "markdown",
      "source": [
        "**Aggregation Functions** \\\n",
        "(tensor refers to name of the tensor)\\\n",
        "min: `tesnor.min()`\\\n",
        "max: `tesnor.max()`\\\n",
        "mean: `tesnor.mean()`, only works for float datatype \\\n",
        "sum: `tesnor.sum()`\\\n",
        "\n",
        "Finding the index of min/max element:\n",
        " `tesnor.argmin()` or  `tesnor.argmax()`\\"
      ],
      "metadata": {
        "id": "VmXbRlKBu-r2"
      }
    },
    {
      "cell_type": "markdown",
      "source": [
        "**PyTorch and NumPy** \\\n",
        "`torch.from_numpy(ndarray)` - NumPy array -> PyTorch tensor \\\n",
        "`torch.Tensor.numpy()` - PyTorch tensor -> NumPy array.\\\n",
        "Note: PyTorch's default dtype is float32, while NumPy's is float64\n"
      ],
      "metadata": {
        "id": "MK0y4eYmwQSr"
      }
    },
    {
      "cell_type": "markdown",
      "source": [
        "### Linear Regression Model"
      ],
      "metadata": {
        "id": "JQadmr0lXDYh"
      }
    },
    {
      "cell_type": "code",
      "source": [
        "from torch import nn\n",
        "from sklearn import datasets\n",
        "from sklearn.linear_model import LinearRegression\n",
        "\n",
        "X_np,y_np = datasets.make_regression(n_samples=100, n_features=1, noise=15, random_state=42)\n",
        "X = torch.from_numpy(X_np).type(torch.float32)\n",
        "y = torch.from_numpy(y_np).type(torch.float32).unsqueeze(dim=1)\n",
        "lr = LinearRegression().fit(X_np,y_np)\n",
        "tru_weight = lr.coef_\n",
        "tru_bias = lr.intercept_\n",
        "\n",
        "n_samples, n_features = X.shape\n",
        "\n",
        "X_train,y_train = X[:int(0.8*n_samples)], y[:int(0.8*n_samples)]\n",
        "X_test,y_test = X[int(0.8*n_samples):], y[int(0.8*n_samples):]\n",
        "\n",
        "## nn.Module is the base class of all neural network modules\n",
        "class LinearRegressionModel(nn.Module):\n",
        "  def __init__(self):\n",
        "    super().__init__()\n",
        "    self.weights = nn.Parameter(torch.randn(1, requires_grad=True,dtype=torch.float32))\n",
        "    self.bias = nn.Parameter(torch.randn(1,requires_grad=True, dtype=torch.float32))\n",
        "\n",
        "  #A method that defines the computation in the model, that has to be overwritten\n",
        "  def forward(self,x: torch.Tensor) -> torch.Tensor:\n",
        "    return self.weights*x + self.bias\n"
      ],
      "metadata": {
        "id": "PM5DjcRwTPHt"
      },
      "execution_count": null,
      "outputs": []
    },
    {
      "cell_type": "code",
      "source": [
        "torch.manual_seed(42)\n",
        "\n",
        "model1 = LinearRegressionModel()\n",
        "\n",
        "print(list(model1.parameters()))\n",
        "print(model1.state_dict())\n",
        "\n",
        "#this method makes the prediction leaving unneccessary information, which makes faster computation.\n",
        "#Without inference_mode(), pytorch will also keep track of info like which param requires gradient.\n",
        "with torch.inference_mode():\n",
        "  y_preds = model1(X_test)"
      ],
      "metadata": {
        "colab": {
          "base_uri": "https://localhost:8080/"
        },
        "id": "Gmsjl3xv3O8r",
        "outputId": "119b4b5f-e680-4361-c0a8-472e103778ba"
      },
      "execution_count": null,
      "outputs": [
        {
          "output_type": "stream",
          "name": "stdout",
          "text": [
            "[Parameter containing:\n",
            "tensor([0.3367], requires_grad=True), Parameter containing:\n",
            "tensor([0.1288], requires_grad=True)]\n",
            "OrderedDict([('weights', tensor([0.3367])), ('bias', tensor([0.1288]))])\n"
          ]
        }
      ]
    },
    {
      "cell_type": "markdown",
      "source": [
        "### Training the model\n",
        "* The loss function measures how wrong our model is\n",
        "* Optimizer takes into account this loss and adjusts the parameters\n",
        "\n",
        "**Training Loop**\n",
        "0. Loop through the data\n",
        "1. Forward pass, i.e, get the predictions\n",
        "2. Calculate the loss\n",
        "3. Optimizer zero grad (resets the accumulated gradients over the epochs for a fresh start)\n",
        "4. Perform backprop on the loss wrt params of the model\n",
        "5. Step the optimizer"
      ],
      "metadata": {
        "id": "4_UUKDWe9Nyw"
      }
    },
    {
      "cell_type": "code",
      "source": [
        "loss_fn = nn.MSELoss()\n",
        "\n",
        "optimizer = torch.optim.SGD(params=model1.parameters(), lr=0.001)\n",
        "\n",
        "epochs = 10000\n",
        "\n",
        "for epoch in range(epochs):\n",
        "  #tells the model that its being trained. It helps when certain layers behave differently during training and evaluation\n",
        "  model1.train()\n",
        "\n",
        "  y_pred = model1(X_train)\n",
        "\n",
        "  loss = loss_fn(y_pred, y_train) #y_train is the ground truth label\n",
        "\n",
        "  optimizer.zero_grad()\n",
        "\n",
        "  loss.backward()\n",
        "\n",
        "  optimizer.step()\n",
        "\n",
        "  model1.eval()"
      ],
      "metadata": {
        "id": "nns0_vcV9RZ7"
      },
      "execution_count": null,
      "outputs": []
    },
    {
      "cell_type": "code",
      "source": [
        "model1.state_dict()"
      ],
      "metadata": {
        "colab": {
          "base_uri": "https://localhost:8080/"
        },
        "id": "v6cPxxL5YK6S",
        "outputId": "b3d57496-4403-4bb0-f3cd-df5bbdea685e"
      },
      "execution_count": null,
      "outputs": [
        {
          "output_type": "execute_result",
          "data": {
            "text/plain": [
              "OrderedDict([('weights', tensor([45.8373])), ('bias', tensor([1.8118]))])"
            ]
          },
          "metadata": {},
          "execution_count": 7
        }
      ]
    },
    {
      "cell_type": "code",
      "source": [
        "print(tru_weight, tru_bias)"
      ],
      "metadata": {
        "colab": {
          "base_uri": "https://localhost:8080/"
        },
        "id": "BWrJud-CZ2L_",
        "outputId": "a2d0098e-41e4-4dce-cf74-b08115703348"
      },
      "execution_count": null,
      "outputs": [
        {
          "output_type": "stream",
          "name": "stdout",
          "text": [
            "[45.78520483] 1.7476729807904583\n"
          ]
        }
      ]
    },
    {
      "cell_type": "code",
      "source": [
        "from matplotlib import pyplot as plt\n",
        "\n",
        "with torch.inference_mode():\n",
        "  y_new_preds = model1(X_test)\n",
        "\n",
        "  #calc the loss after training\n",
        "  test_loss = loss_fn(y_new_preds,y_test)\n",
        "\n",
        "print(test_loss )\n",
        "plt.scatter(X_test, y_new_preds, c=\"orange\")\n",
        "plt.scatter(X_test, y_test, c=\"green\")"
      ],
      "metadata": {
        "colab": {
          "base_uri": "https://localhost:8080/",
          "height": 465
        },
        "id": "7goCE3DfbQKW",
        "outputId": "573e6d0d-f73d-429a-c504-bc8925ba389f"
      },
      "execution_count": null,
      "outputs": [
        {
          "output_type": "stream",
          "name": "stdout",
          "text": [
            "tensor(100.0366)\n"
          ]
        },
        {
          "output_type": "execute_result",
          "data": {
            "text/plain": [
              "<matplotlib.collections.PathCollection at 0x7a23ced8c8e0>"
            ]
          },
          "metadata": {},
          "execution_count": 9
        },
        {
          "output_type": "display_data",
          "data": {
            "text/plain": [
              "<Figure size 640x480 with 1 Axes>"
            ],
            "image/png": "[encoded data removed]"
          },
          "metadata": {}
        }
      ]
    }
  ]
}